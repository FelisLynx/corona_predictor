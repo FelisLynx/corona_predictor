{
 "cells": [
  {
   "cell_type": "code",
   "execution_count": null,
   "metadata": {},
   "outputs": [],
   "source": [
    "import numpy as np\n",
    "import matplotlib.pyplot as plt\n",
    "import re\n",
    "import datetime\n",
    "import pandas as pd\n",
    "from scipy.signal import argrelextrema"
   ]
  },
  {
   "cell_type": "code",
   "execution_count": null,
   "metadata": {},
   "outputs": [],
   "source": [
    "#get our data!\n",
    "import requests\n",
    "\n",
    "data_link = \"https://raw.githubusercontent.com/CSSEGISandData/COVID-19/master/csse_covid_19_data/csse_covid_19_time_series/time_series_covid19_confirmed_global.csv\"\n",
    "r = requests.get(data_link)\n",
    "open(\"time_series_covid19_confirmed_global.csv\" , 'wb').write(r.content)\n",
    "\n",
    "#or just clone from here: https://github.com/CSSEGISandData/COVID-19"
   ]
  },
  {
   "cell_type": "code",
   "execution_count": null,
   "metadata": {},
   "outputs": [],
   "source": [
    "filename = \"time_series_covid19_confirmed_global.csv\"\n",
    "\n",
    "df = pd.read_csv(\n",
    "            filename,\n",
    "            sep=',',\n",
    "            error_bad_lines=False,\n",
    "            header = 0,\n",
    "            index_col = False          \n",
    "           )\n",
    "\n",
    "dates_x = [datetime.datetime.strptime(i, \"%m/%d/%y\") for i in df.columns[5:]]\n",
    "#[5:] - remove 1st date because we go from total cases to daily cases by shifting valuse by 1 day\n",
    "\n",
    "cases_total_y = df.loc[df['Country/Region'] == \"Ukraine\"].values.tolist()[0][4:]\n",
    "cases_daily_y = [j-i for i, j in zip(cases_total_y, cases_total_y[1:])]\n",
    "\n",
    "days_to_skip = len([i for i in cases_daily_y if i<1])\n",
    "print(\"days_to_skip =\", days_to_skip)\n",
    "\n",
    "dates_x = dates_x[days_to_skip:]\n",
    "cases_daily_y = cases_daily_y[days_to_skip:]\n",
    "print(dates_x[-1])\n",
    "print(len(dates_x))"
   ]
  },
  {
   "cell_type": "code",
   "execution_count": null,
   "metadata": {},
   "outputs": [],
   "source": [
    "def get_poly(x,y,deg=4):\n",
    "    poly_coefts = np.polyfit(x, y, deg)\n",
    "    #print(poly_coefts)\n",
    "    poly_coefts = np.flip(poly_coefts, axis = 0)\n",
    "    return(np.polynomial.polynomial.Polynomial(poly_coefts))"
   ]
  },
  {
   "cell_type": "code",
   "execution_count": null,
   "metadata": {},
   "outputs": [],
   "source": [
    "extra_days = 10\n",
    "x = np.array(range(len(cases_daily_y)))\n",
    "x_extra = np.array(range(len(cases_daily_y) + extra_days))\n",
    "\n",
    "extra_dates_x = [dates_x[0] + datetime.timedelta(days=i) for i in range(len(x_extra))]\n",
    "\n",
    "#approximate mid case scenario\n",
    "mypoly = get_poly(x, cases_daily_y, 4)\n",
    "mid_case_scenario_y = mypoly(x_extra)\n",
    "\n",
    "#get positions of local maximums\n",
    "local_max_x = argrelextrema(np.asarray(cases_daily_y), np.greater)[0]\n",
    "\n",
    "#approximate peaks \n",
    "local_max_y = [cases_daily_y[i] for i in local_max_x]\n",
    "local_max_dates = [dates_x[i] for i in local_max_x]\n",
    "mypoly = get_poly(local_max_x, local_max_y, 4)\n",
    "max_scenario_y = mypoly(x_extra) \n",
    "\n",
    "plt.rcParams[\"figure.figsize\"] = [20,10]\n",
    "\n",
    "fig = plt.figure()\n",
    "plt.bar(dates_x, cases_daily_y)\n",
    "plt.bar(local_max_dates, local_max_y, color=\"orange\")\n",
    "plt.plot(extra_dates_x, mid_case_scenario_y, c=\"green\")\n",
    "plt.plot(extra_dates_x, max_scenario_y, c=\"red\")\n",
    "\n",
    "plt.show()"
   ]
  },
  {
   "cell_type": "code",
   "execution_count": null,
   "metadata": {},
   "outputs": [],
   "source": [
    "for i in local_max_dates[-7:]:\n",
    "    print(i)"
   ]
  },
  {
   "cell_type": "code",
   "execution_count": null,
   "metadata": {},
   "outputs": [],
   "source": [
    "for i,j in zip(extra_dates_x[-extra_days:],max_scenario_y[-extra_days:]):\n",
    "    print(i,j)"
   ]
  }
 ],
 "metadata": {
  "kernelspec": {
   "display_name": "Python 3",
   "language": "python",
   "name": "python3"
  },
  "language_info": {
   "codemirror_mode": {
    "name": "ipython",
    "version": 3
   },
   "file_extension": ".py",
   "mimetype": "text/x-python",
   "name": "python",
   "nbconvert_exporter": "python",
   "pygments_lexer": "ipython3",
   "version": "3.6.4"
  },
  "varInspector": {
   "cols": {
    "lenName": 16,
    "lenType": 16,
    "lenVar": 40
   },
   "kernels_config": {
    "python": {
     "delete_cmd_postfix": "",
     "delete_cmd_prefix": "del ",
     "library": "var_list.py",
     "varRefreshCmd": "print(var_dic_list())"
    },
    "r": {
     "delete_cmd_postfix": ") ",
     "delete_cmd_prefix": "rm(",
     "library": "var_list.r",
     "varRefreshCmd": "cat(var_dic_list()) "
    }
   },
   "types_to_exclude": [
    "module",
    "function",
    "builtin_function_or_method",
    "instance",
    "_Feature"
   ],
   "window_display": false
  }
 },
 "nbformat": 4,
 "nbformat_minor": 2
}
